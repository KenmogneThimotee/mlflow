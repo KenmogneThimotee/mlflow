{
 "cells": [
  {
   "attachments": {},
   "cell_type": "markdown",
   "id": "6d65a150",
   "metadata": {
    "papermill": {
     "duration": 0.006416,
     "end_time": "2023-01-12T12:06:25.625791",
     "exception": false,
     "start_time": "2023-01-12T12:06:25.619375",
     "status": "completed"
    },
    "tags": []
   },
   "source": [
    "# Boston House Price Prediction with Linear Regression\n",
    "\n",
    "**Context**\n",
    "<br />\n",
    "The Boston house-price data of Harrison, D. and Rubinfeld, D.L. 'Hedonic prices and the demand for clean air', J. Environ. Economics & Management, vol.5, 81-102, 1978.\n",
    "<br />\n",
    "\n",
    "**Attribute Information**\n",
    "<br />\n",
    "1) CRIM: per capita crime rate by town\n",
    "<br />\n",
    "2) ZN: proportion of residential land zoned for lots over 25,000 sq.ft.\n",
    "<br />\n",
    "3) INDUS: proportion of non-retail business acres per town\n",
    "<br />\n",
    "4) CHAS: Charles River dummy variable (1 if tract bounds river; 0 otherwise)\n",
    "<br />\n",
    "5) NOX: nitric oxides concentration (parts per 10 million) [parts/10M]\n",
    "<br />\n",
    "6) RM: average number of rooms per dwelling\n",
    "<br />\n",
    "7) AGE: proportion of owner-occupied units built prior to 1940\n",
    "<br />\n",
    "8) DIS: weighted distances to five Boston employment centres\n",
    "<br />\n",
    "9) RAD: index of accessibility to radial highways\n",
    "<br />\n",
    "10) TAX: full-value property-tax rate per $10,000 \n",
    "<br />\n",
    "11) PTRATIO: pupil-teacher ratio by town\n",
    "<br />\n",
    "12) B: The result of the equation B=1000(Bk - 0.63)^2 where Bk is the proportion of blacks by town\n",
    "<br />\n",
    "13) LSTAT: % lower status of the population\n",
    "<br />\n",
    "\n",
    "**Output variable:**\n",
    "<br />\n",
    "1) MEDV: Median value of owner-occupied homes in $1000's\n",
    "\n",
    "**Source**\n",
    "<br />\n",
    "StatLib - Carnegie Mellon University\n",
    "<br />"
   ]
  },
  {
   "attachments": {},
   "cell_type": "markdown",
   "id": "f8db036c",
   "metadata": {
    "papermill": {
     "duration": 0.005167,
     "end_time": "2023-01-12T12:06:25.637464",
     "exception": false,
     "start_time": "2023-01-12T12:06:25.632297",
     "status": "completed"
    },
    "tags": []
   },
   "source": [
    "# Import Libraries"
   ]
  },
  {
   "cell_type": "code",
   "execution_count": 30,
   "id": "2406fd56",
   "metadata": {
    "execution": {
     "iopub.execute_input": "2023-01-12T12:06:25.651596Z",
     "iopub.status.busy": "2023-01-12T12:06:25.650763Z",
     "iopub.status.idle": "2023-01-12T12:06:27.117816Z",
     "shell.execute_reply": "2023-01-12T12:06:27.114203Z"
    },
    "papermill": {
     "duration": 1.480065,
     "end_time": "2023-01-12T12:06:27.123707",
     "exception": false,
     "start_time": "2023-01-12T12:06:25.643642",
     "status": "completed"
    },
    "tags": []
   },
   "outputs": [],
   "source": [
    "import numpy as np\n",
    "import pandas as pd\n",
    "\n",
    "import seaborn as sns\n",
    "import matplotlib.pyplot as plt\n",
    "\n",
    "from sklearn.model_selection import train_test_split\n",
    "from sklearn.metrics import mean_absolute_error\n",
    "from sklearn.metrics import mean_squared_error\n",
    "from sklearn.model_selection import GridSearchCV\n",
    "import mlflow\n",
    "import mlflow.sklearn\n",
    "from mlflow.models.signature import infer_signature\n",
    "import os\n",
    "from sklearn.linear_model import LinearRegression"
   ]
  },
  {
   "attachments": {},
   "cell_type": "markdown",
   "id": "dea4b948",
   "metadata": {},
   "source": [
    "# SET Mlflow tracking server and create an experiment"
   ]
  },
  {
   "cell_type": "code",
   "execution_count": 10,
   "id": "0198dd4c",
   "metadata": {},
   "outputs": [
    {
     "name": "stderr",
     "output_type": "stream",
     "text": [
      "2023/05/27 13:37:53 INFO mlflow.tracking.fluent: Experiment with name 'demo' does not exist. Creating a new experiment.\n"
     ]
    }
   ],
   "source": [
    "\n",
    "mlflow.set_tracking_uri(os.environ.get(\"MLFLOW_TRACKING_URI\"))\n",
    "EXPERIMENT_NAME = \"demo\"\n",
    "EXPERIMENT_ID = mlflow.set_experiment(EXPERIMENT_NAME)"
   ]
  },
  {
   "attachments": {},
   "cell_type": "markdown",
   "id": "a262e1a9",
   "metadata": {
    "papermill": {
     "duration": 0.009174,
     "end_time": "2023-01-12T12:06:27.144301",
     "exception": false,
     "start_time": "2023-01-12T12:06:27.135127",
     "status": "completed"
    },
    "tags": []
   },
   "source": [
    "# Read Data"
   ]
  },
  {
   "cell_type": "code",
   "execution_count": 12,
   "id": "ada44d73",
   "metadata": {
    "execution": {
     "iopub.execute_input": "2023-01-12T12:06:27.164152Z",
     "iopub.status.busy": "2023-01-12T12:06:27.162588Z",
     "iopub.status.idle": "2023-01-12T12:06:27.218643Z",
     "shell.execute_reply": "2023-01-12T12:06:27.217040Z"
    },
    "papermill": {
     "duration": 0.069293,
     "end_time": "2023-01-12T12:06:27.221777",
     "exception": false,
     "start_time": "2023-01-12T12:06:27.152484",
     "status": "completed"
    },
    "tags": []
   },
   "outputs": [
    {
     "data": {
      "text/html": [
       "<div>\n",
       "<style scoped>\n",
       "    .dataframe tbody tr th:only-of-type {\n",
       "        vertical-align: middle;\n",
       "    }\n",
       "\n",
       "    .dataframe tbody tr th {\n",
       "        vertical-align: top;\n",
       "    }\n",
       "\n",
       "    .dataframe thead th {\n",
       "        text-align: right;\n",
       "    }\n",
       "</style>\n",
       "<table border=\"1\" class=\"dataframe\">\n",
       "  <thead>\n",
       "    <tr style=\"text-align: right;\">\n",
       "      <th></th>\n",
       "      <th>CRIM</th>\n",
       "      <th>ZN</th>\n",
       "      <th>INDUS</th>\n",
       "      <th>CHAS</th>\n",
       "      <th>NOX</th>\n",
       "      <th>RM</th>\n",
       "      <th>AGE</th>\n",
       "      <th>DIS</th>\n",
       "      <th>RAD</th>\n",
       "      <th>TAX</th>\n",
       "      <th>PTRATIO</th>\n",
       "      <th>B</th>\n",
       "      <th>LSTAT</th>\n",
       "      <th>MEDV</th>\n",
       "    </tr>\n",
       "  </thead>\n",
       "  <tbody>\n",
       "    <tr>\n",
       "      <th>0</th>\n",
       "      <td>0.00632</td>\n",
       "      <td>18.0</td>\n",
       "      <td>2.31</td>\n",
       "      <td>0</td>\n",
       "      <td>0.538</td>\n",
       "      <td>6.575</td>\n",
       "      <td>65.2</td>\n",
       "      <td>4.0900</td>\n",
       "      <td>1</td>\n",
       "      <td>296.0</td>\n",
       "      <td>15.3</td>\n",
       "      <td>396.90</td>\n",
       "      <td>4.98</td>\n",
       "      <td>24.0</td>\n",
       "    </tr>\n",
       "    <tr>\n",
       "      <th>1</th>\n",
       "      <td>0.02731</td>\n",
       "      <td>0.0</td>\n",
       "      <td>7.07</td>\n",
       "      <td>0</td>\n",
       "      <td>0.469</td>\n",
       "      <td>6.421</td>\n",
       "      <td>78.9</td>\n",
       "      <td>4.9671</td>\n",
       "      <td>2</td>\n",
       "      <td>242.0</td>\n",
       "      <td>17.8</td>\n",
       "      <td>396.90</td>\n",
       "      <td>9.14</td>\n",
       "      <td>21.6</td>\n",
       "    </tr>\n",
       "    <tr>\n",
       "      <th>2</th>\n",
       "      <td>0.02729</td>\n",
       "      <td>0.0</td>\n",
       "      <td>7.07</td>\n",
       "      <td>0</td>\n",
       "      <td>0.469</td>\n",
       "      <td>7.185</td>\n",
       "      <td>61.1</td>\n",
       "      <td>4.9671</td>\n",
       "      <td>2</td>\n",
       "      <td>242.0</td>\n",
       "      <td>17.8</td>\n",
       "      <td>392.83</td>\n",
       "      <td>4.03</td>\n",
       "      <td>34.7</td>\n",
       "    </tr>\n",
       "    <tr>\n",
       "      <th>3</th>\n",
       "      <td>0.03237</td>\n",
       "      <td>0.0</td>\n",
       "      <td>2.18</td>\n",
       "      <td>0</td>\n",
       "      <td>0.458</td>\n",
       "      <td>6.998</td>\n",
       "      <td>45.8</td>\n",
       "      <td>6.0622</td>\n",
       "      <td>3</td>\n",
       "      <td>222.0</td>\n",
       "      <td>18.7</td>\n",
       "      <td>394.63</td>\n",
       "      <td>2.94</td>\n",
       "      <td>33.4</td>\n",
       "    </tr>\n",
       "    <tr>\n",
       "      <th>4</th>\n",
       "      <td>0.06905</td>\n",
       "      <td>0.0</td>\n",
       "      <td>2.18</td>\n",
       "      <td>0</td>\n",
       "      <td>0.458</td>\n",
       "      <td>7.147</td>\n",
       "      <td>54.2</td>\n",
       "      <td>6.0622</td>\n",
       "      <td>3</td>\n",
       "      <td>222.0</td>\n",
       "      <td>18.7</td>\n",
       "      <td>396.90</td>\n",
       "      <td>5.33</td>\n",
       "      <td>36.2</td>\n",
       "    </tr>\n",
       "  </tbody>\n",
       "</table>\n",
       "</div>"
      ],
      "text/plain": [
       "      CRIM    ZN  INDUS  CHAS    NOX     RM   AGE     DIS  RAD    TAX  \\\n",
       "0  0.00632  18.0   2.31     0  0.538  6.575  65.2  4.0900    1  296.0   \n",
       "1  0.02731   0.0   7.07     0  0.469  6.421  78.9  4.9671    2  242.0   \n",
       "2  0.02729   0.0   7.07     0  0.469  7.185  61.1  4.9671    2  242.0   \n",
       "3  0.03237   0.0   2.18     0  0.458  6.998  45.8  6.0622    3  222.0   \n",
       "4  0.06905   0.0   2.18     0  0.458  7.147  54.2  6.0622    3  222.0   \n",
       "\n",
       "   PTRATIO       B  LSTAT  MEDV  \n",
       "0     15.3  396.90   4.98  24.0  \n",
       "1     17.8  396.90   9.14  21.6  \n",
       "2     17.8  392.83   4.03  34.7  \n",
       "3     18.7  394.63   2.94  33.4  \n",
       "4     18.7  396.90   5.33  36.2  "
      ]
     },
     "execution_count": 12,
     "metadata": {},
     "output_type": "execute_result"
    }
   ],
   "source": [
    "boston_data = pd.read_csv('boston.csv')\n",
    "boston_data.head()"
   ]
  },
  {
   "cell_type": "code",
   "execution_count": 13,
   "id": "c7e6fc5b",
   "metadata": {
    "execution": {
     "iopub.execute_input": "2023-01-12T12:06:27.236681Z",
     "iopub.status.busy": "2023-01-12T12:06:27.235881Z",
     "iopub.status.idle": "2023-01-12T12:06:27.307085Z",
     "shell.execute_reply": "2023-01-12T12:06:27.305674Z"
    },
    "papermill": {
     "duration": 0.082741,
     "end_time": "2023-01-12T12:06:27.310562",
     "exception": false,
     "start_time": "2023-01-12T12:06:27.227821",
     "status": "completed"
    },
    "tags": []
   },
   "outputs": [
    {
     "data": {
      "text/html": [
       "<div>\n",
       "<style scoped>\n",
       "    .dataframe tbody tr th:only-of-type {\n",
       "        vertical-align: middle;\n",
       "    }\n",
       "\n",
       "    .dataframe tbody tr th {\n",
       "        vertical-align: top;\n",
       "    }\n",
       "\n",
       "    .dataframe thead th {\n",
       "        text-align: right;\n",
       "    }\n",
       "</style>\n",
       "<table border=\"1\" class=\"dataframe\">\n",
       "  <thead>\n",
       "    <tr style=\"text-align: right;\">\n",
       "      <th></th>\n",
       "      <th>CRIM</th>\n",
       "      <th>ZN</th>\n",
       "      <th>INDUS</th>\n",
       "      <th>CHAS</th>\n",
       "      <th>NOX</th>\n",
       "      <th>RM</th>\n",
       "      <th>AGE</th>\n",
       "      <th>DIS</th>\n",
       "      <th>RAD</th>\n",
       "      <th>TAX</th>\n",
       "      <th>PTRATIO</th>\n",
       "      <th>B</th>\n",
       "      <th>LSTAT</th>\n",
       "      <th>MEDV</th>\n",
       "    </tr>\n",
       "  </thead>\n",
       "  <tbody>\n",
       "    <tr>\n",
       "      <th>count</th>\n",
       "      <td>506.000000</td>\n",
       "      <td>506.000000</td>\n",
       "      <td>506.000000</td>\n",
       "      <td>506.000000</td>\n",
       "      <td>506.000000</td>\n",
       "      <td>506.000000</td>\n",
       "      <td>506.000000</td>\n",
       "      <td>506.000000</td>\n",
       "      <td>506.000000</td>\n",
       "      <td>506.000000</td>\n",
       "      <td>506.000000</td>\n",
       "      <td>506.000000</td>\n",
       "      <td>506.000000</td>\n",
       "      <td>506.000000</td>\n",
       "    </tr>\n",
       "    <tr>\n",
       "      <th>mean</th>\n",
       "      <td>3.613524</td>\n",
       "      <td>11.363636</td>\n",
       "      <td>11.136779</td>\n",
       "      <td>0.069170</td>\n",
       "      <td>0.554695</td>\n",
       "      <td>6.284634</td>\n",
       "      <td>68.574901</td>\n",
       "      <td>3.795043</td>\n",
       "      <td>9.549407</td>\n",
       "      <td>408.237154</td>\n",
       "      <td>18.455534</td>\n",
       "      <td>356.674032</td>\n",
       "      <td>12.653063</td>\n",
       "      <td>22.532806</td>\n",
       "    </tr>\n",
       "    <tr>\n",
       "      <th>std</th>\n",
       "      <td>8.601545</td>\n",
       "      <td>23.322453</td>\n",
       "      <td>6.860353</td>\n",
       "      <td>0.253994</td>\n",
       "      <td>0.115878</td>\n",
       "      <td>0.702617</td>\n",
       "      <td>28.148861</td>\n",
       "      <td>2.105710</td>\n",
       "      <td>8.707259</td>\n",
       "      <td>168.537116</td>\n",
       "      <td>2.164946</td>\n",
       "      <td>91.294864</td>\n",
       "      <td>7.141062</td>\n",
       "      <td>9.197104</td>\n",
       "    </tr>\n",
       "    <tr>\n",
       "      <th>min</th>\n",
       "      <td>0.006320</td>\n",
       "      <td>0.000000</td>\n",
       "      <td>0.460000</td>\n",
       "      <td>0.000000</td>\n",
       "      <td>0.385000</td>\n",
       "      <td>3.561000</td>\n",
       "      <td>2.900000</td>\n",
       "      <td>1.129600</td>\n",
       "      <td>1.000000</td>\n",
       "      <td>187.000000</td>\n",
       "      <td>12.600000</td>\n",
       "      <td>0.320000</td>\n",
       "      <td>1.730000</td>\n",
       "      <td>5.000000</td>\n",
       "    </tr>\n",
       "    <tr>\n",
       "      <th>25%</th>\n",
       "      <td>0.082045</td>\n",
       "      <td>0.000000</td>\n",
       "      <td>5.190000</td>\n",
       "      <td>0.000000</td>\n",
       "      <td>0.449000</td>\n",
       "      <td>5.885500</td>\n",
       "      <td>45.025000</td>\n",
       "      <td>2.100175</td>\n",
       "      <td>4.000000</td>\n",
       "      <td>279.000000</td>\n",
       "      <td>17.400000</td>\n",
       "      <td>375.377500</td>\n",
       "      <td>6.950000</td>\n",
       "      <td>17.025000</td>\n",
       "    </tr>\n",
       "    <tr>\n",
       "      <th>50%</th>\n",
       "      <td>0.256510</td>\n",
       "      <td>0.000000</td>\n",
       "      <td>9.690000</td>\n",
       "      <td>0.000000</td>\n",
       "      <td>0.538000</td>\n",
       "      <td>6.208500</td>\n",
       "      <td>77.500000</td>\n",
       "      <td>3.207450</td>\n",
       "      <td>5.000000</td>\n",
       "      <td>330.000000</td>\n",
       "      <td>19.050000</td>\n",
       "      <td>391.440000</td>\n",
       "      <td>11.360000</td>\n",
       "      <td>21.200000</td>\n",
       "    </tr>\n",
       "    <tr>\n",
       "      <th>75%</th>\n",
       "      <td>3.677083</td>\n",
       "      <td>12.500000</td>\n",
       "      <td>18.100000</td>\n",
       "      <td>0.000000</td>\n",
       "      <td>0.624000</td>\n",
       "      <td>6.623500</td>\n",
       "      <td>94.075000</td>\n",
       "      <td>5.188425</td>\n",
       "      <td>24.000000</td>\n",
       "      <td>666.000000</td>\n",
       "      <td>20.200000</td>\n",
       "      <td>396.225000</td>\n",
       "      <td>16.955000</td>\n",
       "      <td>25.000000</td>\n",
       "    </tr>\n",
       "    <tr>\n",
       "      <th>max</th>\n",
       "      <td>88.976200</td>\n",
       "      <td>100.000000</td>\n",
       "      <td>27.740000</td>\n",
       "      <td>1.000000</td>\n",
       "      <td>0.871000</td>\n",
       "      <td>8.780000</td>\n",
       "      <td>100.000000</td>\n",
       "      <td>12.126500</td>\n",
       "      <td>24.000000</td>\n",
       "      <td>711.000000</td>\n",
       "      <td>22.000000</td>\n",
       "      <td>396.900000</td>\n",
       "      <td>37.970000</td>\n",
       "      <td>50.000000</td>\n",
       "    </tr>\n",
       "  </tbody>\n",
       "</table>\n",
       "</div>"
      ],
      "text/plain": [
       "             CRIM          ZN       INDUS        CHAS         NOX          RM  \\\n",
       "count  506.000000  506.000000  506.000000  506.000000  506.000000  506.000000   \n",
       "mean     3.613524   11.363636   11.136779    0.069170    0.554695    6.284634   \n",
       "std      8.601545   23.322453    6.860353    0.253994    0.115878    0.702617   \n",
       "min      0.006320    0.000000    0.460000    0.000000    0.385000    3.561000   \n",
       "25%      0.082045    0.000000    5.190000    0.000000    0.449000    5.885500   \n",
       "50%      0.256510    0.000000    9.690000    0.000000    0.538000    6.208500   \n",
       "75%      3.677083   12.500000   18.100000    0.000000    0.624000    6.623500   \n",
       "max     88.976200  100.000000   27.740000    1.000000    0.871000    8.780000   \n",
       "\n",
       "              AGE         DIS         RAD         TAX     PTRATIO           B  \\\n",
       "count  506.000000  506.000000  506.000000  506.000000  506.000000  506.000000   \n",
       "mean    68.574901    3.795043    9.549407  408.237154   18.455534  356.674032   \n",
       "std     28.148861    2.105710    8.707259  168.537116    2.164946   91.294864   \n",
       "min      2.900000    1.129600    1.000000  187.000000   12.600000    0.320000   \n",
       "25%     45.025000    2.100175    4.000000  279.000000   17.400000  375.377500   \n",
       "50%     77.500000    3.207450    5.000000  330.000000   19.050000  391.440000   \n",
       "75%     94.075000    5.188425   24.000000  666.000000   20.200000  396.225000   \n",
       "max    100.000000   12.126500   24.000000  711.000000   22.000000  396.900000   \n",
       "\n",
       "            LSTAT        MEDV  \n",
       "count  506.000000  506.000000  \n",
       "mean    12.653063   22.532806  \n",
       "std      7.141062    9.197104  \n",
       "min      1.730000    5.000000  \n",
       "25%      6.950000   17.025000  \n",
       "50%     11.360000   21.200000  \n",
       "75%     16.955000   25.000000  \n",
       "max     37.970000   50.000000  "
      ]
     },
     "execution_count": 13,
     "metadata": {},
     "output_type": "execute_result"
    }
   ],
   "source": [
    "boston_data.describe()"
   ]
  },
  {
   "cell_type": "code",
   "execution_count": 15,
   "id": "0f487ad3",
   "metadata": {
    "execution": {
     "iopub.execute_input": "2023-01-12T12:06:27.326437Z",
     "iopub.status.busy": "2023-01-12T12:06:27.325899Z",
     "iopub.status.idle": "2023-01-12T12:06:27.606020Z",
     "shell.execute_reply": "2023-01-12T12:06:27.604799Z"
    },
    "papermill": {
     "duration": 0.2911,
     "end_time": "2023-01-12T12:06:27.608663",
     "exception": false,
     "start_time": "2023-01-12T12:06:27.317563",
     "status": "completed"
    },
    "tags": []
   },
   "outputs": [],
   "source": [
    "# #Rapid EDA\n",
    "\n",
    "# import sweetviz as sv\n",
    "\n",
    "# report = sv.analyze(boston_data)\n",
    "# report.show_notebook()"
   ]
  },
  {
   "attachments": {},
   "cell_type": "markdown",
   "id": "dd507d33",
   "metadata": {
    "papermill": {
     "duration": 0.006369,
     "end_time": "2023-01-12T12:06:27.622942",
     "exception": false,
     "start_time": "2023-01-12T12:06:27.616573",
     "status": "completed"
    },
    "tags": []
   },
   "source": [
    "# Train Test Split"
   ]
  },
  {
   "cell_type": "code",
   "execution_count": 16,
   "id": "1d3b99f1",
   "metadata": {
    "execution": {
     "iopub.execute_input": "2023-01-12T12:06:27.641981Z",
     "iopub.status.busy": "2023-01-12T12:06:27.641106Z",
     "iopub.status.idle": "2023-01-12T12:06:27.648913Z",
     "shell.execute_reply": "2023-01-12T12:06:27.647599Z"
    },
    "papermill": {
     "duration": 0.020855,
     "end_time": "2023-01-12T12:06:27.652472",
     "exception": false,
     "start_time": "2023-01-12T12:06:27.631617",
     "status": "completed"
    },
    "tags": []
   },
   "outputs": [],
   "source": [
    "y = boston_data.MEDV\n",
    "X = boston_data.drop(['MEDV'], axis=1)"
   ]
  },
  {
   "cell_type": "code",
   "execution_count": 17,
   "id": "56b027a2",
   "metadata": {
    "execution": {
     "iopub.execute_input": "2023-01-12T12:06:27.669955Z",
     "iopub.status.busy": "2023-01-12T12:06:27.668544Z",
     "iopub.status.idle": "2023-01-12T12:06:27.677823Z",
     "shell.execute_reply": "2023-01-12T12:06:27.676414Z"
    },
    "papermill": {
     "duration": 0.021372,
     "end_time": "2023-01-12T12:06:27.680577",
     "exception": false,
     "start_time": "2023-01-12T12:06:27.659205",
     "status": "completed"
    },
    "tags": []
   },
   "outputs": [],
   "source": [
    "X_train, X_test, y_train, y_test = train_test_split(X, y, train_size=0.8, test_size=0.2, random_state=0)"
   ]
  },
  {
   "attachments": {},
   "cell_type": "markdown",
   "id": "32218f90",
   "metadata": {
    "papermill": {
     "duration": 0.006229,
     "end_time": "2023-01-12T12:06:27.693069",
     "exception": false,
     "start_time": "2023-01-12T12:06:27.686840",
     "status": "completed"
    },
    "tags": []
   },
   "source": [
    "# Define the Model"
   ]
  },
  {
   "cell_type": "code",
   "execution_count": 28,
   "id": "deacb393",
   "metadata": {
    "execution": {
     "iopub.execute_input": "2023-01-12T12:06:27.708934Z",
     "iopub.status.busy": "2023-01-12T12:06:27.707782Z",
     "iopub.status.idle": "2023-01-12T12:06:27.714173Z",
     "shell.execute_reply": "2023-01-12T12:06:27.713141Z"
    },
    "papermill": {
     "duration": 0.017025,
     "end_time": "2023-01-12T12:06:27.716605",
     "exception": false,
     "start_time": "2023-01-12T12:06:27.699580",
     "status": "completed"
    },
    "tags": []
   },
   "outputs": [],
   "source": [
    "model = LinearRegression(fit_intercept=False)"
   ]
  },
  {
   "attachments": {},
   "cell_type": "markdown",
   "id": "ef8e0483",
   "metadata": {
    "papermill": {
     "duration": 0.007582,
     "end_time": "2023-01-12T12:06:27.730489",
     "exception": false,
     "start_time": "2023-01-12T12:06:27.722907",
     "status": "completed"
    },
    "tags": []
   },
   "source": [
    "# Fit the Model"
   ]
  },
  {
   "cell_type": "code",
   "execution_count": 38,
   "id": "bd7f27b1",
   "metadata": {
    "execution": {
     "iopub.execute_input": "2023-01-12T12:06:27.745654Z",
     "iopub.status.busy": "2023-01-12T12:06:27.745179Z",
     "iopub.status.idle": "2023-01-12T12:06:27.776842Z",
     "shell.execute_reply": "2023-01-12T12:06:27.775384Z"
    },
    "papermill": {
     "duration": 0.042596,
     "end_time": "2023-01-12T12:06:27.779650",
     "exception": false,
     "start_time": "2023-01-12T12:06:27.737054",
     "status": "completed"
    },
    "tags": []
   },
   "outputs": [
    {
     "name": "stderr",
     "output_type": "stream",
     "text": [
      "/home/thimotee/miniconda3/envs/ecom-app/lib/python3.9/site-packages/mlflow/models/signature.py:137: UserWarning: Hint: Inferred schema contains integer column(s). Integer columns in Python cannot represent missing values. If your input data contains missing values at inference time, it will be encoded as floats and will cause a schema enforcement error. The best way to avoid this problem is to infer the model schema based on a realistic data sample (training dataset) that includes missing values. Alternatively, you can declare integer columns as doubles (float64) whenever these columns may have missing values. See `Handling Integers With Missing Values <https://www.mlflow.org/docs/latest/models.html#handling-integers-with-missing-values>`_ for more details.\n",
      "  inputs = _infer_schema(model_input)\n",
      "Successfully registered model 'linearRegressionModel'.\n",
      "2023/05/27 14:28:37 INFO mlflow.tracking._model_registry.client: Waiting up to 300 seconds for model version to finish creation. Model name: linearRegressionModel, version 1\n"
     ]
    },
    {
     "name": "stdout",
     "output_type": "stream",
     "text": [
      "Mean Absolute Error\n",
      "MAE:  3.7048362423420476\n",
      "\n",
      "Mean Squared Error\n",
      "MSE:  36.11531753130366\n",
      "\n",
      "Root Mean Squared Error\n",
      "RMSE:  6.0096021108974975\n",
      "\n",
      "Root Mean Squared Log Error \n",
      "RMSLE:  1.7933585418459332\n",
      "Name: linearRegressionModel\n",
      "Version: 1\n"
     ]
    },
    {
     "name": "stderr",
     "output_type": "stream",
     "text": [
      "Created version '1' of model 'linearRegressionModel'.\n"
     ]
    },
    {
     "data": {
      "image/png": "[encoded data removed]",
      "text/plain": [
       "<Figure size 640x480 with 1 Axes>"
      ]
     },
     "metadata": {},
     "output_type": "display_data"
    }
   ],
   "source": [
    "with mlflow.start_run() as run:\n",
    "    model.fit(X_train, y_train)\n",
    "    \n",
    "    mlflow.log_param(\"Intercept\", model.intercept_)\n",
    "    mlflow.log_param(\"Coefficient\", model.coef_)\n",
    "    \n",
    "    predictions = model.predict(X_test)\n",
    "    signature = infer_signature(X_test, predictions)\n",
    "\n",
    "    # mlflow.log_param(\"Prediction Test set\", predictions)\n",
    "    \n",
    "    mae = mean_absolute_error(y_test, predictions)\n",
    "    mlflow.log_metric(\"mae\", mae)\n",
    "    \n",
    "    mse = mean_squared_error(y_test, predictions)\n",
    "    mlflow.log_metric(\"mse\", mse)\n",
    "\n",
    "    rmse = np.sqrt(mean_squared_error(y_test, predictions))\n",
    "    mlflow.log_metric(\"rmse\", rmse)\n",
    "    \n",
    "    rmsle = np.log(np.sqrt(mean_squared_error(y_test, predictions)))\n",
    "    mlflow.log_metric(\"rmsle\", rmsle)\n",
    "    \n",
    "    mlflow.sklearn.log_model(model, artifact_path=\"sklearn-model\", signature=signature)\n",
    "\n",
    "    fig, ax = plt.subplots()\n",
    "    ax.plot(predictions, label='Predictions') \n",
    "    ax.plot(y_test.to_numpy(), label='Actual values')\n",
    "    ax.set_xlabel('Count')\n",
    "    ax.set_ylabel('Values [MEDV]')\n",
    "    ax.legend()\n",
    "    ax.set_title('Actual vs Predicted Values')\n",
    "    #plt.show()\n",
    "    mlflow.log_figure(fig, \"figure.png\")\n",
    "\n",
    "    print('Mean Absolute Error')\n",
    "    print('MAE: ', mae)\n",
    "\n",
    "    print('\\nMean Squared Error')\n",
    "    print('MSE: ', mse)\n",
    "\n",
    "    print('\\nRoot Mean Squared Error')\n",
    "    print(\"RMSE: \", rmse)\n",
    "\n",
    "    print('\\nRoot Mean Squared Log Error ')\n",
    "    print(\"RMSLE: \", rmsle)\n",
    "\n",
    "model_uri = \"runs:/{}/sklearn-model\".format(run.info.run_id)\n",
    "mv = mlflow.register_model(model_uri, \"linearRegressionModel\")\n",
    "print(\"Name: {}\".format(mv.name))\n",
    "print(\"Version: {}\".format(mv.version))"
   ]
  },
  {
   "cell_type": "code",
   "execution_count": 21,
   "id": "31da6880",
   "metadata": {
    "execution": {
     "iopub.execute_input": "2023-01-12T12:06:27.811646Z",
     "iopub.status.busy": "2023-01-12T12:06:27.810814Z",
     "iopub.status.idle": "2023-01-12T12:06:27.823332Z",
     "shell.execute_reply": "2023-01-12T12:06:27.820651Z"
    },
    "papermill": {
     "duration": 0.025045,
     "end_time": "2023-01-12T12:06:27.826751",
     "exception": false,
     "start_time": "2023-01-12T12:06:27.801706",
     "status": "completed"
    },
    "tags": []
   },
   "outputs": [
    {
     "name": "stdout",
     "output_type": "stream",
     "text": [
      "Intercept\n",
      " 38.091694926302296\n",
      "\n",
      "Coefficient\n",
      " [-1.19443447e-01  4.47799511e-02  5.48526168e-03  2.34080361e+00\n",
      " -1.61236043e+01  3.70870901e+00 -3.12108178e-03 -1.38639737e+00\n",
      "  2.44178327e-01 -1.09896366e-02 -1.04592119e+00  8.11010693e-03\n",
      " -4.92792725e-01]\n"
     ]
    }
   ],
   "source": [
    "print('Intercept\\n', model.intercept_)\n",
    "print('\\nCoefficient\\n', model.coef_)"
   ]
  },
  {
   "attachments": {},
   "cell_type": "markdown",
   "id": "3a590429",
   "metadata": {
    "papermill": {
     "duration": 0.00883,
     "end_time": "2023-01-12T12:06:27.844301",
     "exception": false,
     "start_time": "2023-01-12T12:06:27.835471",
     "status": "completed"
    },
    "tags": []
   },
   "source": [
    "# Prediction"
   ]
  },
  {
   "cell_type": "code",
   "execution_count": 22,
   "id": "cd8eedcb",
   "metadata": {
    "execution": {
     "iopub.execute_input": "2023-01-12T12:06:27.862935Z",
     "iopub.status.busy": "2023-01-12T12:06:27.862550Z",
     "iopub.status.idle": "2023-01-12T12:06:27.874581Z",
     "shell.execute_reply": "2023-01-12T12:06:27.873330Z"
    },
    "papermill": {
     "duration": 0.024389,
     "end_time": "2023-01-12T12:06:27.877908",
     "exception": false,
     "start_time": "2023-01-12T12:06:27.853519",
     "status": "completed"
    },
    "tags": []
   },
   "outputs": [],
   "source": [
    "predictions = model.predict(X_test)"
   ]
  },
  {
   "attachments": {},
   "cell_type": "markdown",
   "id": "9e3c5bd7",
   "metadata": {
    "papermill": {
     "duration": 0.007666,
     "end_time": "2023-01-12T12:06:27.892175",
     "exception": false,
     "start_time": "2023-01-12T12:06:27.884509",
     "status": "completed"
    },
    "tags": []
   },
   "source": [
    "# Evaluation"
   ]
  },
  {
   "cell_type": "code",
   "execution_count": 11,
   "id": "d346b925",
   "metadata": {
    "execution": {
     "iopub.execute_input": "2023-01-12T12:06:27.909519Z",
     "iopub.status.busy": "2023-01-12T12:06:27.908631Z",
     "iopub.status.idle": "2023-01-12T12:06:27.921306Z",
     "shell.execute_reply": "2023-01-12T12:06:27.919891Z"
    },
    "papermill": {
     "duration": 0.0244,
     "end_time": "2023-01-12T12:06:27.924121",
     "exception": false,
     "start_time": "2023-01-12T12:06:27.899721",
     "status": "completed"
    },
    "tags": []
   },
   "outputs": [
    {
     "name": "stdout",
     "output_type": "stream",
     "text": [
      "Mean Absolute Error\n",
      "MAE:  3.8429092204444983\n",
      "\n",
      "Mean Squared Error\n",
      "MSE:  33.44897999767639\n",
      "\n",
      "Root Mean Squared Error\n",
      "RMSE:  5.783509315085123\n",
      "\n",
      "Root Mean Squared Log Error \n",
      "RMSLE:  1.7550106463831492\n"
     ]
    }
   ],
   "source": [
    "mae = mean_absolute_error(y_test, predictions)\n",
    "mse = mean_squared_error(y_test, predictions)\n",
    "\n",
    "rmse = np.sqrt(mean_squared_error(y_test, predictions))\n",
    "rmsle = np.log(np.sqrt(mean_squared_error(y_test, predictions)))\n",
    "\n",
    "print('Mean Absolute Error')\n",
    "print('MAE: ', mae)\n",
    "\n",
    "print('\\nMean Squared Error')\n",
    "print('MSE: ', mse)\n",
    "\n",
    "print('\\nRoot Mean Squared Error')\n",
    "print(\"RMSE: \", rmse)\n",
    "\n",
    "print('\\nRoot Mean Squared Log Error ')\n",
    "print(\"RMSLE: \", rmsle)"
   ]
  },
  {
   "attachments": {},
   "cell_type": "markdown",
   "id": "60229dbc",
   "metadata": {
    "papermill": {
     "duration": 0.00785,
     "end_time": "2023-01-12T12:06:27.939325",
     "exception": false,
     "start_time": "2023-01-12T12:06:27.931475",
     "status": "completed"
    },
    "tags": []
   },
   "source": [
    "# Plot Actual vs Predicted Values"
   ]
  },
  {
   "cell_type": "code",
   "execution_count": 12,
   "id": "c7855508",
   "metadata": {
    "execution": {
     "iopub.execute_input": "2023-01-12T12:06:27.966442Z",
     "iopub.status.busy": "2023-01-12T12:06:27.965988Z",
     "iopub.status.idle": "2023-01-12T12:06:28.227504Z",
     "shell.execute_reply": "2023-01-12T12:06:28.226384Z"
    },
    "papermill": {
     "duration": 0.283107,
     "end_time": "2023-01-12T12:06:28.231389",
     "exception": false,
     "start_time": "2023-01-12T12:06:27.948282",
     "status": "completed"
    },
    "tags": []
   },
   "outputs": [
    {
     "data": {
      "image/png": "[encoded data removed]",
      "text/plain": [
       "<Figure size 432x288 with 1 Axes>"
      ]
     },
     "metadata": {
      "needs_background": "light"
     },
     "output_type": "display_data"
    }
   ],
   "source": [
    "plt.plot(predictions, label='Predictions') \n",
    "plt.plot(y_test.to_numpy(), label='Actual values')\n",
    "plt.xlabel('Count')\n",
    "plt.ylabel('Values [MEDV]')\n",
    "plt.legend()\n",
    "plt.title('Actual vs Predicted Values')\n",
    "plt.show()"
   ]
  }
 ],
 "metadata": {
  "kernelspec": {
   "display_name": "Python 3",
   "language": "python",
   "name": "python3"
  },
  "language_info": {
   "codemirror_mode": {
    "name": "ipython",
    "version": 3
   },
   "file_extension": ".py",
   "mimetype": "text/x-python",
   "name": "python",
   "nbconvert_exporter": "python",
   "pygments_lexer": "ipython3",
   "version": "3.9.0"
  },
  "papermill": {
   "default_parameters": {},
   "duration": 13.955664,
   "end_time": "2023-01-12T12:06:29.165857",
   "environment_variables": {},
   "exception": null,
   "input_path": "__notebook__.ipynb",
   "output_path": "__notebook__.ipynb",
   "parameters": {},
   "start_time": "2023-01-12T12:06:15.210193",
   "version": "2.3.4"
  }
 },
 "nbformat": 4,
 "nbformat_minor": 5
}
